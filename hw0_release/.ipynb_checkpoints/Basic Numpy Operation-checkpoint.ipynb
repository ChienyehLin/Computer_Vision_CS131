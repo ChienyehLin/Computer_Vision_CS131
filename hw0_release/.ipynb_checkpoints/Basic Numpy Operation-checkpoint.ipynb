{
 "cells": [
  {
   "cell_type": "code",
   "execution_count": 16,
   "metadata": {},
   "outputs": [
    {
     "name": "stdout",
     "output_type": "stream",
     "text": [
      "[[[3 2]\n",
      "  [2 2]]\n",
      "\n",
      " [[0 1]\n",
      "  [1 1]]] \n",
      "\n"
     ]
    }
   ],
   "source": [
    "import numpy as np\n",
    "A = np.array([[[3,2],[2,2]],[[0,1],[1,1]]])\n",
    "B = np.array([[3,1],[2,1]])\n",
    "A+=[1,1]\n",
    "print(A,'\\n')"
   ]
  },
  {
   "cell_type": "code",
   "execution_count": null,
   "metadata": {},
   "outputs": [],
   "source": []
  }
 ],
 "metadata": {
  "kernelspec": {
   "display_name": "Python 3",
   "language": "python",
   "name": "python3"
  }
 },
 "nbformat": 4,
 "nbformat_minor": 2
}
